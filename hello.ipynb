{
  "nbformat": 4,
  "nbformat_minor": 0,
  "metadata": {
    "orig_nbformat": 2,
    "kernelspec": {
      "name": "python3",
      "display_name": "Python 3"
    },
    "colab": {
      "name": "hello.ipynb",
      "provenance": [],
      "collapsed_sections": [],
      "include_colab_link": true
    }
  },
  "cells": [
    {
      "cell_type": "markdown",
      "metadata": {
        "id": "view-in-github",
        "colab_type": "text"
      },
      "source": [
        "<a href=\"https://colab.research.google.com/github/langegang/hello-world/blob/master/hello.ipynb\" target=\"_parent\"><img src=\"https://colab.research.google.com/assets/colab-badge.svg\" alt=\"Open In Colab\"/></a>"
      ]
    },
    {
      "cell_type": "markdown",
      "metadata": {
        "id": "tN00aj_RY-Ql",
        "colab_type": "text"
      },
      "source": [
        "# Survivability on the Titanic"
      ]
    },
    {
      "cell_type": "markdown",
      "metadata": {
        "id": "6Dq6l-rQY-Qm",
        "colab_type": "text"
      },
      "source": [
        "## Prepare data"
      ]
    },
    {
      "cell_type": "markdown",
      "metadata": {
        "id": "xMSNpJ08Y-Qn",
        "colab_type": "text"
      },
      "source": [
        "Import modules and Titanic dataset"
      ]
    },
    {
      "cell_type": "code",
      "metadata": {
        "id": "_md-V7toY-Qn",
        "colab_type": "code",
        "colab": {}
      },
      "source": [
        "import pandas as pd\n",
        "import numpy as np\n",
        "data = pd.read_csv('data.csv')"
      ],
      "execution_count": null,
      "outputs": []
    },
    {
      "cell_type": "code",
      "metadata": {
        "id": "i16ZMtCdY-Qr",
        "colab_type": "code",
        "colab": {}
      },
      "source": [
        "data.replace('?', np.nan, inplace= True)\n",
        "data = data.astype({\"age\": np.float64, \"fare\": np.float64})"
      ],
      "execution_count": null,
      "outputs": []
    },
    {
      "cell_type": "markdown",
      "metadata": {
        "id": "HLErqh5EY-Qu",
        "colab_type": "text"
      },
      "source": [
        "Relating data to **Survivability**"
      ]
    },
    {
      "cell_type": "code",
      "metadata": {
        "id": "O65fiQwXY-Qv",
        "colab_type": "code",
        "colab": {}
      },
      "source": [
        "import seaborn as sns\n",
        "import matplotlib.pyplot as plt\n",
        "\n",
        "fig, axs = plt.subplots(ncols=5, figsize=(30,5))\n",
        "sns.violinplot(x=\"survived\", y=\"age\", hue=\"sex\", data=data, ax=axs[0])\n",
        "sns.pointplot(x=\"sibsp\", y=\"survived\", hue=\"sex\", data=data, ax=axs[1])\n",
        "sns.pointplot(x=\"parch\", y=\"survived\", hue=\"sex\", data=data, ax=axs[2])\n",
        "sns.pointplot(x=\"pclass\", y=\"survived\", hue=\"sex\", data=data, ax=axs[3])\n",
        "sns.violinplot(x=\"survived\", y=\"fare\", hue=\"sex\", data=data, ax=axs[4])"
      ],
      "execution_count": null,
      "outputs": []
    },
    {
      "cell_type": "markdown",
      "metadata": {
        "id": "IdckGtFMY-Qx",
        "colab_type": "text"
      },
      "source": [
        "Calculate correlations"
      ]
    },
    {
      "cell_type": "code",
      "metadata": {
        "id": "xLVVnOQ-Y-Qy",
        "colab_type": "code",
        "colab": {}
      },
      "source": [
        "data.replace({'male': 1, 'female': 0}, inplace= True)"
      ],
      "execution_count": null,
      "outputs": []
    },
    {
      "cell_type": "code",
      "metadata": {
        "id": "pQaMflnaY-Q0",
        "colab_type": "code",
        "colab": {}
      },
      "source": [
        "data.corr().abs()[[\"survived\"]]"
      ],
      "execution_count": null,
      "outputs": []
    },
    {
      "cell_type": "markdown",
      "metadata": {
        "id": "eTqyjozrY-Q3",
        "colab_type": "text"
      },
      "source": [
        "Combine sibsp (siblings, spouse) and parch (parents, children) into one 'relatives' column, and check correlation again"
      ]
    },
    {
      "cell_type": "code",
      "metadata": {
        "id": "lgiD07CEY-Q3",
        "colab_type": "code",
        "colab": {}
      },
      "source": [
        "data['relatives'] = data.apply (lambda row: int((row['sibsp'] + row['parch']) > 0), axis=1)\n",
        "data.corr().abs()[[\"survived\"]]"
      ],
      "execution_count": null,
      "outputs": []
    },
    {
      "cell_type": "code",
      "metadata": {
        "id": "d96vfvbgY-Q6",
        "colab_type": "code",
        "colab": {}
      },
      "source": [
        "data = data[['sex','pclass','age','relatives','fare','survived']].dropna()"
      ],
      "execution_count": null,
      "outputs": []
    },
    {
      "cell_type": "markdown",
      "metadata": {
        "id": "58FnyPTYY-Q9",
        "colab_type": "text"
      },
      "source": [
        "## Train and evaluate a model"
      ]
    },
    {
      "cell_type": "markdown",
      "metadata": {
        "id": "RXydrdznY-Q-",
        "colab_type": "text"
      },
      "source": [
        "Divide dataset into training data and testing data and normalize"
      ]
    },
    {
      "cell_type": "code",
      "metadata": {
        "id": "7-y3I0c4Y-Q-",
        "colab_type": "code",
        "colab": {}
      },
      "source": [
        "from sklearn.model_selection import train_test_split\n",
        "x_train, x_test, y_train, y_test = train_test_split(data[['sex','pclass','age','relatives','fare']], data.survived, test_size=0.2, random_state=0)"
      ],
      "execution_count": null,
      "outputs": []
    },
    {
      "cell_type": "code",
      "metadata": {
        "id": "3-IuLsuqY-RA",
        "colab_type": "code",
        "colab": {}
      },
      "source": [
        "from sklearn.preprocessing import StandardScaler\n",
        "sc = StandardScaler()\n",
        "X_train = sc.fit_transform(x_train)\n",
        "X_test = sc.fit_transform(x_test)"
      ],
      "execution_count": null,
      "outputs": []
    },
    {
      "cell_type": "markdown",
      "metadata": {
        "id": "wtevXZeYY-RD",
        "colab_type": "text"
      },
      "source": [
        "Create and train Naïve Bayes algorithm"
      ]
    },
    {
      "cell_type": "code",
      "metadata": {
        "id": "SE564QruY-RD",
        "colab_type": "code",
        "colab": {}
      },
      "source": [
        "from sklearn.naive_bayes import GaussianNB\n",
        "model = GaussianNB()\n",
        "model.fit(X_train, y_train)"
      ],
      "execution_count": null,
      "outputs": []
    },
    {
      "cell_type": "markdown",
      "metadata": {
        "id": "KQWfMsbuY-RF",
        "colab_type": "text"
      },
      "source": [
        "Try trained model against test data (output accuracy)"
      ]
    },
    {
      "cell_type": "code",
      "metadata": {
        "tags": [],
        "id": "qtI1MVhFY-RG",
        "colab_type": "code",
        "colab": {}
      },
      "source": [
        "from sklearn import metrics\n",
        "predict_test = model.predict(X_test)\n",
        "print(metrics.accuracy_score(y_test, predict_test))"
      ],
      "execution_count": null,
      "outputs": []
    },
    {
      "cell_type": "markdown",
      "metadata": {
        "id": "1XqKTOQCY-RI",
        "colab_type": "text"
      },
      "source": [
        "## Use a neural network to improve accuracy"
      ]
    },
    {
      "cell_type": "code",
      "metadata": {
        "id": "BGW_QxeNY-RI",
        "colab_type": "code",
        "colab": {}
      },
      "source": [
        "from keras.models import Sequential\n",
        "from keras.layers import Dense\n",
        "\n",
        "model = Sequential()"
      ],
      "execution_count": null,
      "outputs": []
    },
    {
      "cell_type": "markdown",
      "metadata": {
        "id": "q7ninpv1Y-RL",
        "colab_type": "text"
      },
      "source": [
        "Add the layers of the neural network\n",
        "\n",
        "- The first layer will be set to have a dimension of 5: sex, pclass, age, relatives, and fare.\n",
        "- The last layer must output 1, since a 1-dimensional output will indicate whether a passenger would survive.\n",
        "- The middle layer was kept at 5 for simplicity, although that value could have been different?\n",
        ">Wtf does this stuff mean\n",
        "\n",
        "\n"
      ]
    },
    {
      "cell_type": "code",
      "metadata": {
        "id": "9mc0S5CRY-RO",
        "colab_type": "code",
        "colab": {}
      },
      "source": [
        "model.add(Dense(5, kernel_initializer= 'uniform', activation= 'relu', input_dim = 5))\n",
        "model.add(Dense(5, kernel_initializer= 'uniform', activation= 'relu'))\n",
        "model.add(Dense(1, kernel_initializer= 'uniform', activation= 'sigmoid'))"
      ],
      "execution_count": null,
      "outputs": []
    },
    {
      "cell_type": "code",
      "metadata": {
        "tags": [],
        "id": "6el0wys0Y-RR",
        "colab_type": "code",
        "colab": {}
      },
      "source": [
        "model.summary()"
      ],
      "execution_count": null,
      "outputs": []
    },
    {
      "cell_type": "markdown",
      "metadata": {
        "id": "Fdb7xviyY-RT",
        "colab_type": "text"
      },
      "source": [
        "Compile and train the new model"
      ]
    },
    {
      "cell_type": "code",
      "metadata": {
        "tags": [],
        "id": "RmgRWHnxY-RT",
        "colab_type": "code",
        "colab": {}
      },
      "source": [
        "model.compile(optimizer= \"adam\", loss= 'binary_crossentropy', metrics=['accuracy'])\n",
        "model.fit(X_train, y_train, batch_size=32, epochs=50)"
      ],
      "execution_count": null,
      "outputs": []
    },
    {
      "cell_type": "code",
      "metadata": {
        "tags": [],
        "id": "RyzqlSLGY-RW",
        "colab_type": "code",
        "colab": {}
      },
      "source": [
        "y_pred = model.predict_classes(X_test)\n",
        "print(metrics.accuracy_score(y_test, y_pred))"
      ],
      "execution_count": null,
      "outputs": []
    }
  ]
}